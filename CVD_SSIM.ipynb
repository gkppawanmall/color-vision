{
  "nbformat": 4,
  "nbformat_minor": 0,
  "metadata": {
    "colab": {
      "provenance": []
    },
    "kernelspec": {
      "name": "python3",
      "display_name": "Python 3"
    },
    "language_info": {
      "name": "python"
    }
  },
  "cells": [
    {
      "cell_type": "code",
      "execution_count": null,
      "metadata": {
        "id": "H6L5R-R-kviq"
      },
      "outputs": [],
      "source": [
        "import math\n",
        "import numpy as np\n",
        "import cv2\n",
        "\n",
        "# Function to calculate SSIM (Structural Similarity Index) between two images\n",
        "def ssim(img1, img2):\n",
        "    # Constants for SSIM calculation\n",
        "    C1 = (0.01 * 255)**2\n",
        "    C2 = (0.03 * 255)**2\n",
        "\n",
        "    # Convert images to float64 for precision in calculations\n",
        "    img1 = img1.astype(np.float64)\n",
        "    img2 = img2.astype(np.float64)\n",
        "\n",
        "    # Create a Gaussian kernel for convolution\n",
        "    kernel = cv2.getGaussianKernel(11, 1.5)\n",
        "    window = np.outer(kernel, kernel.transpose())\n",
        "\n",
        "    # Calculate means using Gaussian filter\n",
        "    mu1 = cv2.filter2D(img1, -1, window)[5:-5, 5:-5]  # valid region\n",
        "    mu2 = cv2.filter2D(img2, -1, window)[5:-5, 5:-5]\n",
        "    mu1_sq = mu1**2\n",
        "    mu2_sq = mu2**2\n",
        "    mu1_mu2 = mu1 * mu2\n",
        "\n",
        "    # Calculate variances and covariance\n",
        "    sigma1_sq = cv2.filter2D(img1**2, -1, window)[5:-5, 5:-5] - mu1_sq\n",
        "    sigma2_sq = cv2.filter2D(img2**2, -1, window)[5:-5, 5:-5] - mu2_sq\n",
        "    sigma12 = cv2.filter2D(img1 * img2, -1, window)[5:-5, 5:-5] - mu1_mu2\n",
        "\n",
        "    # Calculate SSIM map\n",
        "    ssim_map = ((2 * mu1_mu2 + C1) * (2 * sigma12 + C2)) / ((mu1_sq + mu2_sq + C1) * (sigma1_sq + sigma2_sq + C2))\n",
        "    return ssim_map.mean()  # Return mean SSIM value\n",
        "\n",
        "# Function to calculate SSIM for grayscale and RGB images\n",
        "def calculate_ssim(img1, img2):\n",
        "    # Check if input images have the same dimensions\n",
        "    if not img1.shape == img2.shape:\n",
        "        raise ValueError('Input images must have the same dimensions.')\n",
        "\n",
        "    # If grayscale image\n",
        "    if img1.ndim == 2:\n",
        "        return ssim(img1, img2)\n",
        "    # If RGB image\n",
        "    elif img1.ndim == 3:\n",
        "        if img1.shape[2] == 3:  # RGB channels\n",
        "            ssims = []\n",
        "            for i in range(3):\n",
        "                ssims.append(ssim(img1, img2))\n",
        "            return np.array(ssims).mean()  # Return mean SSIM across channels\n",
        "        elif img1.shape[2] == 1:  # Single channel image\n",
        "            return ssim(np.squeeze(img1), np.squeeze(img2))\n",
        "    else:\n",
        "        raise ValueError('Wrong input image dimensions.')\n",
        "\n",
        "# Main function to load images and calculate SSIM value\n",
        "def main():\n",
        "    # Load original and compressed images\n",
        "    original = cv2.imread(\"image1.jpg\")\n",
        "    compressed = cv2.imread(\"output_image.jpg\", 1)\n",
        "\n",
        "    # Calculate SSIM value\n",
        "    value = calculate_ssim(original, compressed)\n",
        "    print(f\"SSIM value is {value} dB\")\n",
        "\n",
        "if __name__ == \"__main__\":\n",
        "    main()\n"
      ]
    }
  ]
}